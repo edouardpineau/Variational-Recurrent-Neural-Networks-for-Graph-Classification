{
 "cells": [
  {
   "cell_type": "code",
   "execution_count": 1,
   "metadata": {},
   "outputs": [],
   "source": [
    "import os\n",
    "\n",
    "from args import *\n",
    "from train_test_functions import *\n",
    "from model import *\n",
    "from data import *"
   ]
  },
  {
   "cell_type": "code",
   "execution_count": 2,
   "metadata": {},
   "outputs": [],
   "source": [
    "args = Args(cuda=torch.cuda.is_available(), graph_name='ENZYMES')"
   ]
  },
  {
   "cell_type": "code",
   "execution_count": 3,
   "metadata": {},
   "outputs": [
    {
     "name": "stdout",
     "output_type": "stream",
     "text": [
      "CUDA True\n"
     ]
    }
   ],
   "source": [
    "args.epochs = 2000\n",
    "\n",
    "args.batch_size = 128\n",
    "args.reco_importance = 0.1\n",
    "args.loss = nn.BCELoss()\n",
    "\n",
    "os.environ['CUDA_VISIBLE_DEVICES'] = str(args.cuda)\n",
    "print('CUDA', args.cuda)"
   ]
  },
  {
   "cell_type": "code",
   "execution_count": 4,
   "metadata": {
    "scrolled": true
   },
   "outputs": [
    {
     "name": "stdout",
     "output_type": "stream",
     "text": [
      "Loading graph dataset: ENZYMES\n",
      "Loaded\n",
      "total graph num: 600, training set: 540\n",
      "max number node: 125\n",
      "max/min number edge: 149; 1\n",
      "max previous node: 25\n"
     ]
    }
   ],
   "source": [
    "graphs = graph_load_batch(data_directory=args.data_directory, name=args.graph_name)\n",
    "\n",
    "dataloaders_train, dataloaders_test = create_loaders(graphs, args)"
   ]
  },
  {
   "cell_type": "code",
   "execution_count": null,
   "metadata": {
    "scrolled": true
   },
   "outputs": [
    {
     "name": "stdout",
     "output_type": "stream",
     "text": [
      "0\n"
     ]
    },
    {
     "name": "stderr",
     "output_type": "stream",
     "text": [
      "/home/epineau/anaconda3/envs/edouard/lib/python3.6/site-packages/torch/cuda/__init__.py:116: UserWarning: \n",
      "    Found GPU0 Quadro K4000 which is of cuda capability 3.0.\n",
      "    PyTorch no longer supports this GPU because it is too old.\n",
      "    \n",
      "  warnings.warn(old_gpu_warn % (d, name, major, capability[1]))\n"
     ]
    },
    {
     "name": "stdout",
     "output_type": "stream",
     "text": [
      "Dataset: ENZYMES, Epoch: 1/2000, train bce loss: 0.271, train kl loss: 0.011, classifier loss: 9.036\n",
      "Dataset: ENZYMES, Epoch: 2/2000, train bce loss: 0.186, train kl loss: 0.016, classifier loss: 8.979\n",
      "Dataset: ENZYMES, Epoch: 3/2000, train bce loss: 0.133, train kl loss: 0.023, classifier loss: 8.965\n"
     ]
    }
   ],
   "source": [
    "results = {}\n",
    "\n",
    "args.num_fold = None\n",
    "\n",
    "for i in range(10):\n",
    "\n",
    "    print(i)\n",
    "    args.num_fold = i\n",
    "\n",
    "    rnn_embedding = RecurrentEmbedding(input_size=args.node_dim, \n",
    "                                       embedding_size=args.embedding_size_rnn,\n",
    "                                       hidden_size=args.hidden_size_rnn, \n",
    "                                       num_layers=args.num_layers, \n",
    "                                       is_cuda=args.cuda)\n",
    "\n",
    "    var = VAR(h_size=args.hidden_size_rnn, \n",
    "              embedding_size=args.embedding_size_output,\n",
    "              y_size=args.node_dim, \n",
    "              is_cuda=args.cuda)\n",
    "\n",
    "    rnn_classifier = RecurrentClassifier(input_size=args.hidden_size_rnn, \n",
    "                                         embedding_size=args.embedding_size_rnn,\n",
    "                                         hidden_size=args.hidden_size_rnn, \n",
    "                                         num_layers=args.num_layers, \n",
    "                                         num_class=args.num_class,\n",
    "                                         is_cuda=args.cuda)\n",
    "\n",
    "    if args.cuda:\n",
    "        rnn_embedding = rnn_embedding.cuda()\n",
    "        var = var.cuda()\n",
    "        rnn_classifier = rnn_classifier.cuda()\n",
    "\n",
    "    learning_accuracy_test = classifier_train(args, \n",
    "                                              dataloaders_train[i], \n",
    "                                              dataloaders_test[i], \n",
    "                                              rnn_embedding, var, rnn_classifier)\n",
    "\n",
    "    accuracy_test, scores, predicted_labels, true_labels, vote = vote_test(args, \n",
    "                                                                           rnn_embedding, \n",
    "                                                                           var, \n",
    "                                                                           rnn_classifier,\n",
    "                                                                           dataloaders_test[i], \n",
    "                                                                           num_iteration=100)\n",
    "    \n",
    "    results[i] = {'rnn': rnn_embedding, 'output': var, 'classifier_1': rnn_classifier,\n",
    "                  'acc_test': accuracy_test, 'scores': scores}\n",
    "\n",
    "print([results[r]['acc_test'] for r in results])"
   ]
  },
  {
   "cell_type": "code",
   "execution_count": null,
   "metadata": {},
   "outputs": [],
   "source": []
  }
 ],
 "metadata": {
  "kernelspec": {
   "display_name": "Python 3",
   "language": "python",
   "name": "python3"
  },
  "language_info": {
   "codemirror_mode": {
    "name": "ipython",
    "version": 3
   },
   "file_extension": ".py",
   "mimetype": "text/x-python",
   "name": "python",
   "nbconvert_exporter": "python",
   "pygments_lexer": "ipython3",
   "version": "3.6.7"
  }
 },
 "nbformat": 4,
 "nbformat_minor": 2
}
